{
 "cells": [
  {
   "cell_type": "markdown",
   "metadata": {},
   "source": [
    "### View JSON"
   ]
  },
  {
   "cell_type": "code",
   "execution_count": 1,
   "metadata": {},
   "outputs": [],
   "source": [
    "import json\n",
    "\n",
    "items = []\n",
    "with open(\"/Users/sarfrazahmad/Developer/Research/Fact-Checking/urdu-fc-wip/LLM Evaluations/freshQA/jsonl/qwen72B_fresh_qa.jsonl\", \"r\", encoding=\"utf-8\") as f:\n",
    "    buffer = \"\"\n",
    "    for line in f:\n",
    "        line = line.strip()\n",
    "        if not line:\n",
    "            continue\n",
    "        buffer += line\n",
    "        if line.endswith(\"}\"):\n",
    "            try:\n",
    "                items.append(json.loads(buffer))\n",
    "                buffer = \"\"\n",
    "            except json.JSONDecodeError as e:\n",
    "                print(f\"Error decoding JSON: {e}\")\n",
    "                buffer = \"\"  # Reset buffer on error"
   ]
  },
  {
   "cell_type": "code",
   "execution_count": 2,
   "metadata": {},
   "outputs": [
    {
     "data": {
      "text/plain": [
       "600"
      ]
     },
     "execution_count": 2,
     "metadata": {},
     "output_type": "execute_result"
    }
   ],
   "source": [
    "len(items)"
   ]
  },
  {
   "cell_type": "code",
   "execution_count": 4,
   "metadata": {},
   "outputs": [],
   "source": [
    "with open(\"/Users/sarfrazahmad/Developer/Research/Fact-Checking/urdu-fc-wip/LLM Evaluations/freshQA/jsonl/qwen72B_fresh_qa.json\", \"w\", encoding=\"utf-8\") as f:\n",
    "    json.dump(items, f, ensure_ascii=False, indent=4)"
   ]
  },
  {
   "cell_type": "code",
   "execution_count": 14,
   "metadata": {},
   "outputs": [
    {
     "data": {
      "text/plain": [
       "{'claim': 'The cost of making Pirates of the Caribbean: On Stranger Tides (2011) was $376.5 million after a tax credit.',\n",
       " 'label': 'false',\n",
       " 'claim_urdu': 'Pirates of the Caribbean: On Stranger Tides (2011) کی تیاری کی لاگت ٹیکس کریڈٹ کے بعد $376.5 ملین تھی۔',\n",
       " 'label_urdu': 'غلط'}"
      ]
     },
     "execution_count": 14,
     "metadata": {},
     "output_type": "execute_result"
    }
   ],
   "source": [
    "items"
   ]
  },
  {
   "cell_type": "code",
   "execution_count": 1,
   "metadata": {},
   "outputs": [],
   "source": [
    "import json\n",
    "\n",
    "with open(\"/Users/sarfrazahmad/Developer/Research/Fact-Checking/urdu-fc-wip/datasets/processed/qa/simpleqa/parts/simpleqa_gpt-4o_chunk_4.json\", \"r\", encoding=\"utf-8\") as f:\n",
    "    data = json.load(f)"
   ]
  },
  {
   "cell_type": "code",
   "execution_count": 10,
   "metadata": {},
   "outputs": [],
   "source": [
    "with open(\"/Users/sarfrazahmad/Developer/Research/Fact-Checking/urdu-fc-wip/datasets/processed/qa/simpleqa/parts/simpleqa_gpt-4o_chunk_4_ahsan.json\", \"w\", encoding=\"utf-8\") as f:\n",
    "    json.dump(data[450:], f, ensure_ascii=False, indent=4)"
   ]
  },
  {
   "cell_type": "code",
   "execution_count": null,
   "metadata": {},
   "outputs": [],
   "source": [
    "# with open('/Users/sarfrazahmad/Developer/Research/Fact-Checking/urdu-fc-wip/src/examples_bingcheck.json', 'w', encoding='utf-8') as file:\n",
    "#     json.dump(data[:20], file, ensure_ascii=False, indent=4)"
   ]
  },
  {
   "cell_type": "markdown",
   "metadata": {},
   "source": [
    "### View LangGraph"
   ]
  },
  {
   "cell_type": "code",
   "execution_count": 1,
   "metadata": {},
   "outputs": [],
   "source": [
    "from IPython.display import Image\n",
    "\n",
    "from graph_fewshot import graph"
   ]
  },
  {
   "cell_type": "code",
   "execution_count": 4,
   "metadata": {},
   "outputs": [
    {
     "data": {
      "image/png": "[encoded data removed]",
      "text/plain": [
       "<IPython.core.display.Image object>"
      ]
     },
     "metadata": {},
     "output_type": "display_data"
    }
   ],
   "source": [
    "display(Image(graph.get_graph().draw_mermaid_png()))"
   ]
  },
  {
   "cell_type": "markdown",
   "metadata": {},
   "source": [
    "### Add Exisitng Keys"
   ]
  },
  {
   "cell_type": "code",
   "execution_count": 1,
   "metadata": {},
   "outputs": [],
   "source": [
    "import json"
   ]
  },
  {
   "cell_type": "code",
   "execution_count": 2,
   "metadata": {},
   "outputs": [],
   "source": [
    "with open(\"/Users/sarfrazahmad/Developer/Research/Fact-Checking/urdu-fc-wip/datasets/processed/qa/freshqa/freshqa_gpt_4o_annotated.json\", \"r\", encoding=\"utf-8\") as f:\n",
    "    annot = json.load(f)"
   ]
  },
  {
   "cell_type": "code",
   "execution_count": 3,
   "metadata": {},
   "outputs": [],
   "source": [
    "with open(\"/Users/sarfrazahmad/Developer/Research/Fact-Checking/urdu-fc-wip/LLM Evaluations/freshQA/json/qwen14B_fresh_qa.json\", \"r\", encoding=\"utf-8\") as f:\n",
    "    data = json.load(f)"
   ]
  },
  {
   "cell_type": "code",
   "execution_count": 4,
   "metadata": {},
   "outputs": [
    {
     "data": {
      "text/plain": [
       "(600, 600)"
      ]
     },
     "execution_count": 4,
     "metadata": {},
     "output_type": "execute_result"
    }
   ],
   "source": [
    "len(data), len(annot)"
   ]
  },
  {
   "cell_type": "code",
   "execution_count": 5,
   "metadata": {},
   "outputs": [],
   "source": [
    "# add generated_answer_urdu key from data to annot\n",
    "for i in range(len(annot)):\n",
    "    annot[i][\"generated_answer_urdu\"] = data[i][\"generated_answer_urdu\"]"
   ]
  },
  {
   "cell_type": "code",
   "execution_count": 6,
   "metadata": {},
   "outputs": [],
   "source": [
    "with open(\"/Users/sarfrazahmad/Developer/Research/Fact-Checking/urdu-fc-wip/LLM Evaluations/freshQA/Final/qwen14B_fresh_qa.json\", \"w\", encoding=\"utf-8\") as f:\n",
    "    json.dump(annot, f, ensure_ascii=False, indent=4)"
   ]
  },
  {
   "cell_type": "markdown",
   "metadata": {},
   "source": [
    "### json to jsonl"
   ]
  },
  {
   "cell_type": "code",
   "execution_count": 1,
   "metadata": {},
   "outputs": [],
   "source": [
    "import json"
   ]
  },
  {
   "cell_type": "code",
   "execution_count": 2,
   "metadata": {},
   "outputs": [],
   "source": [
    "path = \"/Users/sarfrazahmad/Developer/Research/Fact-Checking/urdu-fc-wip/LLM Evaluations/simpleqa/json/simpleqa_answers_o4-mini.json\""
   ]
  },
  {
   "cell_type": "code",
   "execution_count": 3,
   "metadata": {},
   "outputs": [],
   "source": [
    "# read json file\n",
    "with open(path, \"r\", encoding=\"utf-8\") as f:\n",
    "    data = json.load(f)"
   ]
  },
  {
   "cell_type": "code",
   "execution_count": 4,
   "metadata": {},
   "outputs": [],
   "source": [
    "# store json data as jsonl in a new file\n",
    "with open(path.replace(\".json\", \".jsonl\"), \"w\", encoding=\"utf-8\") as f:\n",
    "    for item in data:\n",
    "        f.write(json.dumps(item, ensure_ascii=False) + \"\\n\")"
   ]
  },
  {
   "cell_type": "markdown",
   "metadata": {},
   "source": [
    "### Dup Ids"
   ]
  },
  {
   "cell_type": "code",
   "execution_count": 5,
   "metadata": {},
   "outputs": [],
   "source": [
    "import json"
   ]
  },
  {
   "cell_type": "code",
   "execution_count": 6,
   "metadata": {},
   "outputs": [],
   "source": [
    "path = \"/Users/sarfrazahmad/Developer/Research/Fact-Checking/urdu-fc-wip/datasets/processed/qa/simpleqa/simpleqa_gpt-4o_annotated.json\""
   ]
  },
  {
   "cell_type": "code",
   "execution_count": 7,
   "metadata": {},
   "outputs": [],
   "source": [
    "# read json file\n",
    "with open(path, \"r\", encoding=\"utf-8\") as f:\n",
    "    data = json.load(f)"
   ]
  },
  {
   "cell_type": "code",
   "execution_count": 8,
   "metadata": {},
   "outputs": [
    {
     "name": "stdout",
     "output_type": "stream",
     "text": [
      "{'52': 2, '63': 2, '97': 2, '105': 2, '113': 2, '122': 2, '124': 2, '125': 2, '286': 2, '357': 2, '361': 2, '669': 2, '738': 2, '824': 2, '928': 2, '1163': 2, '2978': 2}\n"
     ]
    }
   ],
   "source": [
    "# find duplidated \"id\" keys\n",
    "ids = {}\n",
    "\n",
    "for item in data:\n",
    "    if item[\"id\"] in ids:\n",
    "        ids[item[\"id\"]] += 1\n",
    "    else:\n",
    "        ids[item[\"id\"]] = 1\n",
    "duplicates = {k: v for k, v in ids.items() if v > 1}\n",
    "print(duplicates)"
   ]
  },
  {
   "cell_type": "code",
   "execution_count": null,
   "metadata": {},
   "outputs": [],
   "source": []
  }
 ],
 "metadata": {
  "kernelspec": {
   "display_name": "3.11.4",
   "language": "python",
   "name": "python3"
  },
  "language_info": {
   "codemirror_mode": {
    "name": "ipython",
    "version": 3
   },
   "file_extension": ".py",
   "mimetype": "text/x-python",
   "name": "python",
   "nbconvert_exporter": "python",
   "pygments_lexer": "ipython3",
   "version": "3.11.4"
  }
 },
 "nbformat": 4,
 "nbformat_minor": 2
}
