{
 "cells": [
  {
   "cell_type": "markdown",
   "metadata": {},
   "source": [
    "### View JSON"
   ]
  },
  {
   "cell_type": "code",
   "execution_count": 42,
   "metadata": {},
   "outputs": [],
   "source": [
    "import json"
   ]
  },
  {
   "cell_type": "code",
   "execution_count": 4,
   "metadata": {},
   "outputs": [
    {
     "name": "stdout",
     "output_type": "stream",
     "text": [
      "[{'question': \"Who was awarded the Oceanography Society's Jerlov Award in 2018?\", 'answer': 'Annick Bricaud', 'question_urdu': 'سال 2018 میں اوشیانوگرافی سوسائٹی کے جیرلوو ایوارڈ سے کس کو نوازا گیا؟', 'answer_urdu': 'انیک برکیوڈ'}, {'question': \"What total number of newly discovered pieces of music by Maddalena Casulana were played for the first time in 400 years on March 8, 2022, as part of BBC Radio 3's programming for International Women's Day?\", 'answer': '12', 'question_urdu': 'بی بی سی ریڈیو 3 کے بین الاقوامی یوم خواتین کے لیے پروگرامنگ کے حصے کے طور پر 8 مارچ 2022 کو 400 سالوں میں پہلی بار مادالینا کاسولانا کی موسیقی کے کتنے نئے دریافت ہوئے ٹکڑوں کو چلایا گیا؟', 'answer_urdu': '12'}, {'question': 'What is the second song on Side Two of the album Rewind by Johnny Rivers?', 'answer': 'For Emily, Whenever I May Find Her', 'question_urdu': 'جانی ریورز کے البم \"ریوائنڈ\" کی سائیڈ ٹو پر دوسرا گانا کون سا ہے؟', 'answer_urdu': 'فور ایملی، وینیور آئی مے فائنڈ ہر'}, {'question': 'How many miles from the Indo-Nepal border was Amit Kumar hiding from the police on February 7, 2008?', 'answer': '35', 'question_urdu': 'امیت کمار 7 فروری 2008 کو ہند-نیپال سرحد سے کتنے میل دور پولیس سے چھپا ہوا تھا؟', 'answer_urdu': '35'}, {'question': 'Who was the wife of the Indian criminal \"Welding\" Kumar, who was originally known as Jeyakumar?', 'answer': 'Shanti', 'question_urdu': 'بھارتی مجرم \"ویلڈنگ\" کمار، جس کا اصل نام جے کمار تھا، کی بیوی کون تھی؟', 'answer_urdu': 'شانتھی'}, {'question': \"According to Karl Küchler, what did Empress Elizabeth of Austria's favorite sculpture depict, which was made for her villa Achilleion at Corfu?\", 'answer': 'Poet Henrich Heine.', 'question_urdu': 'کارل کوچلر کے مطابق، آسٹریا کی ملکہ الزبتھ کے لیے ان کے ولا اچیلیئن، کورفو میں بنائی گئی ان کی پسندیدہ مجسمہ کس کو ظاہر کرتا ہے؟', 'answer_urdu': 'شاعر ہائنرش ہائنے۔'}, {'question': 'What were the month and year when Obama told Christianity Today, \"I am a Christian, and I am a devout Christian. I believe in the redemptive death and resurrection of Jesus Christ\"?', 'answer': 'January 2008', 'question_urdu': 'اوباما نے \"کرسچینیٹی ٹوڈے\" کو یہ بیان کہ \"میں ایک عیسائی ہوں، اور میں ایک پرہیزگار عیسائی ہوں۔ میں یسوع مسیح کی نجات بخش موت اور قیامت پر یقین رکھتا ہوں\" کس مہینے اور سال میں دیا تھا؟', 'answer_urdu': 'جنوری 2008'}]\n"
     ]
    }
   ],
   "source": [
    "with open('examples.json', 'r') as file:\n",
    "    data = json.load(file)\n",
    "\n",
    "print(data)"
   ]
  },
  {
   "cell_type": "code",
   "execution_count": 5,
   "metadata": {},
   "outputs": [],
   "source": [
    "# change data to df\n",
    "import pandas as pd\n",
    "\n",
    "df = pd.DataFrame(data)"
   ]
  },
  {
   "cell_type": "code",
   "execution_count": 9,
   "metadata": {},
   "outputs": [
    {
     "data": {
      "text/plain": [
       "'بھارتی مجرم \"ویلڈنگ\" کمار، جس کا اصل نام جے کمار تھا، کی بیوی کون تھی؟'"
      ]
     },
     "execution_count": 9,
     "metadata": {},
     "output_type": "execute_result"
    }
   ],
   "source": [
    "df[\"question_urdu\"][4]"
   ]
  },
  {
   "cell_type": "markdown",
   "metadata": {},
   "source": [
    "### View LangGraph"
   ]
  },
  {
   "cell_type": "code",
   "execution_count": 1,
   "metadata": {},
   "outputs": [],
   "source": [
    "from IPython.display import Image\n",
    "\n",
    "from graph_fewshot import graph"
   ]
  },
  {
   "cell_type": "code",
   "execution_count": 4,
   "metadata": {},
   "outputs": [
    {
     "data": {
      "image/png": "[encoded data removed]",
      "text/plain": [
       "<IPython.core.display.Image object>"
      ]
     },
     "metadata": {},
     "output_type": "display_data"
    }
   ],
   "source": [
    "display(Image(graph.get_graph().draw_mermaid_png()))"
   ]
  },
  {
   "cell_type": "code",
   "execution_count": null,
   "metadata": {},
   "outputs": [],
   "source": []
  }
 ],
 "metadata": {
  "kernelspec": {
   "display_name": "3.11.4",
   "language": "python",
   "name": "python3"
  },
  "language_info": {
   "codemirror_mode": {
    "name": "ipython",
    "version": 3
   },
   "file_extension": ".py",
   "mimetype": "text/x-python",
   "name": "python",
   "nbconvert_exporter": "python",
   "pygments_lexer": "ipython3",
   "version": "3.11.4"
  }
 },
 "nbformat": 4,
 "nbformat_minor": 2
}
