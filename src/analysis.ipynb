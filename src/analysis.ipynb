{
 "cells": [
  {
   "cell_type": "markdown",
   "metadata": {},
   "source": [
    "### View JSON"
   ]
  },
  {
   "cell_type": "code",
   "execution_count": 1,
   "metadata": {},
   "outputs": [],
   "source": [
    "import json"
   ]
  },
  {
   "cell_type": "code",
   "execution_count": 3,
   "metadata": {},
   "outputs": [],
   "source": [
    "with open('/Users/sarfrazahmad/Developer/Research/Fact-Checking/urdu-fc-wip/datasets/processed/simpleqa/parts/simpleqa_gpt-4o_chunk_0.json', 'r', encoding='utf-8') as file:\n",
    "    data = json.load(file)"
   ]
  },
  {
   "cell_type": "code",
   "execution_count": 4,
   "metadata": {},
   "outputs": [
    {
     "data": {
      "text/plain": [
       "721"
      ]
     },
     "execution_count": 4,
     "metadata": {},
     "output_type": "execute_result"
    }
   ],
   "source": [
    "len(data)"
   ]
  },
  {
   "cell_type": "code",
   "execution_count": 5,
   "metadata": {},
   "outputs": [
    {
     "data": {
      "text/plain": [
       "721"
      ]
     },
     "execution_count": 5,
     "metadata": {},
     "output_type": "execute_result"
    }
   ],
   "source": [
    "# remove entries from data list where question_urdu is false\n",
    "filtered_data = [entry for entry in data if entry.get(\"question_urdu\")]\n",
    "len(filtered_data)"
   ]
  },
  {
   "cell_type": "code",
   "execution_count": 7,
   "metadata": {},
   "outputs": [
    {
     "data": {
      "text/plain": [
       "\"لیگو پارٹ جس کا ID 'gal56' ہے، وہ کون سے سال میں پہلی بار جاری ہوا؟\""
      ]
     },
     "execution_count": 7,
     "metadata": {},
     "output_type": "execute_result"
    }
   ],
   "source": [
    "filtered_data[11][\"question_urdu\"]"
   ]
  },
  {
   "cell_type": "code",
   "execution_count": 15,
   "metadata": {},
   "outputs": [],
   "source": [
    "# now sort the filtered data by id\n",
    "sorted_data = sorted(filtered_data, key=lambda x: int(x['id']))"
   ]
  },
  {
   "cell_type": "code",
   "execution_count": 16,
   "metadata": {},
   "outputs": [],
   "source": [
    "with open('/Users/sarfrazahmad/Developer/Research/Fact-Checking/urdu-fc-wip/datasets/processed/simpleqa/simpleqa_gpt-4o.json', \"w\", encoding=\"utf-8\") as f:\n",
    "    json.dump(sorted_data, f, ensure_ascii=False, indent=4)"
   ]
  },
  {
   "cell_type": "code",
   "execution_count": 5,
   "metadata": {},
   "outputs": [],
   "source": [
    "# change data to df\n",
    "import pandas as pd\n",
    "\n",
    "df = pd.DataFrame(data)"
   ]
  },
  {
   "cell_type": "code",
   "execution_count": 7,
   "metadata": {},
   "outputs": [
    {
     "data": {
      "text/html": [
       "<div>\n",
       "<style scoped>\n",
       "    .dataframe tbody tr th:only-of-type {\n",
       "        vertical-align: middle;\n",
       "    }\n",
       "\n",
       "    .dataframe tbody tr th {\n",
       "        vertical-align: top;\n",
       "    }\n",
       "\n",
       "    .dataframe thead th {\n",
       "        text-align: right;\n",
       "    }\n",
       "</style>\n",
       "<table border=\"1\" class=\"dataframe\">\n",
       "  <thead>\n",
       "    <tr style=\"text-align: right;\">\n",
       "      <th></th>\n",
       "      <th>id</th>\n",
       "      <th>metadata</th>\n",
       "      <th>question</th>\n",
       "      <th>answer</th>\n",
       "      <th>question_urdu</th>\n",
       "      <th>answer_urdu</th>\n",
       "    </tr>\n",
       "  </thead>\n",
       "  <tbody>\n",
       "    <tr>\n",
       "      <th>0</th>\n",
       "      <td>0</td>\n",
       "      <td>{'topic': 'Science and technology', 'answer_ty...</td>\n",
       "      <td>Who received the IEEE Frank Rosenblatt Award i...</td>\n",
       "      <td>Michio Sugeno</td>\n",
       "      <td>فرینک روزن بلیٹ ایوارڈ کس کو دیا گیا؟ IEEE سال...</td>\n",
       "      <td>میشیو سوگینو</td>\n",
       "    </tr>\n",
       "    <tr>\n",
       "      <th>1</th>\n",
       "      <td>1</td>\n",
       "      <td>{'topic': 'Science and technology', 'answer_ty...</td>\n",
       "      <td>Who was awarded the Oceanography Society's Jer...</td>\n",
       "      <td>Annick Bricaud</td>\n",
       "      <td>سال 2018 میں اوشیانوگرافی سوسائٹی کے جیرلوو ای...</td>\n",
       "      <td>انیک برکیوڈ</td>\n",
       "    </tr>\n",
       "    <tr>\n",
       "      <th>2</th>\n",
       "      <td>2</td>\n",
       "      <td>{'topic': 'Geography', 'answer_type': 'Place',...</td>\n",
       "      <td>What's the name of the women's liberal arts co...</td>\n",
       "      <td>Radcliffe College</td>\n",
       "      <td>کیمبرج، میساچوسٹس میں خواتین کے لبرل آرٹس کالج...</td>\n",
       "      <td>ریڈکلف کالج</td>\n",
       "    </tr>\n",
       "    <tr>\n",
       "      <th>3</th>\n",
       "      <td>3</td>\n",
       "      <td>{'topic': 'Sports', 'answer_type': 'Person', '...</td>\n",
       "      <td>In whose honor was the Leipzig 1877 tournament...</td>\n",
       "      <td>Adolf Anderssen</td>\n",
       "      <td>لیپزگ 1877 کے ٹورنامنٹ کو کس کے اعزاز میں منظم...</td>\n",
       "      <td>اڈولف اینڈرسن</td>\n",
       "    </tr>\n",
       "    <tr>\n",
       "      <th>4</th>\n",
       "      <td>4</td>\n",
       "      <td>{'topic': 'Art', 'answer_type': 'Person', 'url...</td>\n",
       "      <td>According to Karl Küchler, what did Empress El...</td>\n",
       "      <td>Poet Henrich Heine.</td>\n",
       "      <td>False</td>\n",
       "      <td>False</td>\n",
       "    </tr>\n",
       "    <tr>\n",
       "      <th>...</th>\n",
       "      <td>...</td>\n",
       "      <td>...</td>\n",
       "      <td>...</td>\n",
       "      <td>...</td>\n",
       "      <td>...</td>\n",
       "      <td>...</td>\n",
       "    </tr>\n",
       "    <tr>\n",
       "      <th>4321</th>\n",
       "      <td>4321</td>\n",
       "      <td>{'topic': 'Art', 'answer_type': 'Date', 'urls'...</td>\n",
       "      <td>The book \"Rhine\" by Anselm Kiefer is from what...</td>\n",
       "      <td>1981.</td>\n",
       "      <td>کتاب 'رائن' از آنزیلم کیفیر کس سال کی ہے؟</td>\n",
       "      <td>1981۔</td>\n",
       "    </tr>\n",
       "    <tr>\n",
       "      <th>4322</th>\n",
       "      <td>4322</td>\n",
       "      <td>{'topic': 'Video games', 'answer_type': 'Perso...</td>\n",
       "      <td>What was the first and last name of the voice ...</td>\n",
       "      <td>Jodelle Ferland</td>\n",
       "      <td>ویڈیو گیم BioShock 2 (2010) میں لٹل سسٹرز کے ک...</td>\n",
       "      <td>جوڈیل فرلینڈ</td>\n",
       "    </tr>\n",
       "    <tr>\n",
       "      <th>4323</th>\n",
       "      <td>4323</td>\n",
       "      <td>{'topic': 'Music', 'answer_type': 'Date', 'url...</td>\n",
       "      <td>What month and year was Miranda Lambert's albu...</td>\n",
       "      <td>October 2010</td>\n",
       "      <td>میرانڈا لیمبرٹ کے البم \"ریولوشن\" کو RIAA کی طر...</td>\n",
       "      <td>اکتوبر 2010</td>\n",
       "    </tr>\n",
       "    <tr>\n",
       "      <th>4324</th>\n",
       "      <td>4324</td>\n",
       "      <td>{'topic': 'Sports', 'answer_type': 'Date', 'ur...</td>\n",
       "      <td>Provide the day, month, and year Gazprom becam...</td>\n",
       "      <td>17th July 2012</td>\n",
       "      <td>گازپروم کب یوئیفا چیمپئنز لیگ 2012 کے فاتحین، ...</td>\n",
       "      <td>جولائی 17, 2012</td>\n",
       "    </tr>\n",
       "    <tr>\n",
       "      <th>4325</th>\n",
       "      <td>4325</td>\n",
       "      <td>{'topic': 'Other', 'answer_type': 'Other', 'ur...</td>\n",
       "      <td>What instrument did Kunihiko Kodaira's father ...</td>\n",
       "      <td>A piano</td>\n",
       "      <td>کونیہیکو کوڈیرا کے والد جرمنی کے 1921-22 کے سف...</td>\n",
       "      <td>ایک پیانو</td>\n",
       "    </tr>\n",
       "  </tbody>\n",
       "</table>\n",
       "<p>4326 rows × 6 columns</p>\n",
       "</div>"
      ],
      "text/plain": [
       "        id                                           metadata  \\\n",
       "0        0  {'topic': 'Science and technology', 'answer_ty...   \n",
       "1        1  {'topic': 'Science and technology', 'answer_ty...   \n",
       "2        2  {'topic': 'Geography', 'answer_type': 'Place',...   \n",
       "3        3  {'topic': 'Sports', 'answer_type': 'Person', '...   \n",
       "4        4  {'topic': 'Art', 'answer_type': 'Person', 'url...   \n",
       "...    ...                                                ...   \n",
       "4321  4321  {'topic': 'Art', 'answer_type': 'Date', 'urls'...   \n",
       "4322  4322  {'topic': 'Video games', 'answer_type': 'Perso...   \n",
       "4323  4323  {'topic': 'Music', 'answer_type': 'Date', 'url...   \n",
       "4324  4324  {'topic': 'Sports', 'answer_type': 'Date', 'ur...   \n",
       "4325  4325  {'topic': 'Other', 'answer_type': 'Other', 'ur...   \n",
       "\n",
       "                                               question               answer  \\\n",
       "0     Who received the IEEE Frank Rosenblatt Award i...        Michio Sugeno   \n",
       "1     Who was awarded the Oceanography Society's Jer...       Annick Bricaud   \n",
       "2     What's the name of the women's liberal arts co...    Radcliffe College   \n",
       "3     In whose honor was the Leipzig 1877 tournament...      Adolf Anderssen   \n",
       "4     According to Karl Küchler, what did Empress El...  Poet Henrich Heine.   \n",
       "...                                                 ...                  ...   \n",
       "4321  The book \"Rhine\" by Anselm Kiefer is from what...                1981.   \n",
       "4322  What was the first and last name of the voice ...      Jodelle Ferland   \n",
       "4323  What month and year was Miranda Lambert's albu...         October 2010   \n",
       "4324  Provide the day, month, and year Gazprom becam...       17th July 2012   \n",
       "4325  What instrument did Kunihiko Kodaira's father ...              A piano   \n",
       "\n",
       "                                          question_urdu      answer_urdu  \n",
       "0     فرینک روزن بلیٹ ایوارڈ کس کو دیا گیا؟ IEEE سال...     میشیو سوگینو  \n",
       "1     سال 2018 میں اوشیانوگرافی سوسائٹی کے جیرلوو ای...      انیک برکیوڈ  \n",
       "2     کیمبرج، میساچوسٹس میں خواتین کے لبرل آرٹس کالج...      ریڈکلف کالج  \n",
       "3     لیپزگ 1877 کے ٹورنامنٹ کو کس کے اعزاز میں منظم...    اڈولف اینڈرسن  \n",
       "4                                                 False            False  \n",
       "...                                                 ...              ...  \n",
       "4321          کتاب 'رائن' از آنزیلم کیفیر کس سال کی ہے؟            1981۔  \n",
       "4322  ویڈیو گیم BioShock 2 (2010) میں لٹل سسٹرز کے ک...     جوڈیل فرلینڈ  \n",
       "4323  میرانڈا لیمبرٹ کے البم \"ریولوشن\" کو RIAA کی طر...      اکتوبر 2010  \n",
       "4324  گازپروم کب یوئیفا چیمپئنز لیگ 2012 کے فاتحین، ...  جولائی 17, 2012  \n",
       "4325  کونیہیکو کوڈیرا کے والد جرمنی کے 1921-22 کے سف...        ایک پیانو  \n",
       "\n",
       "[4326 rows x 6 columns]"
      ]
     },
     "execution_count": 7,
     "metadata": {},
     "output_type": "execute_result"
    }
   ],
   "source": [
    "df"
   ]
  },
  {
   "cell_type": "markdown",
   "metadata": {},
   "source": [
    "#### Split Data"
   ]
  },
  {
   "cell_type": "code",
   "execution_count": 1,
   "metadata": {},
   "outputs": [],
   "source": [
    "import json"
   ]
  },
  {
   "cell_type": "code",
   "execution_count": 2,
   "metadata": {},
   "outputs": [],
   "source": [
    "with open('/Users/sarfrazahmad/Developer/Research/Fact-Checking/urdu-fc-wip/datasets/processed/simpleqa/simpleqa_gpt-4o.json', 'r', encoding='utf-8') as file:\n",
    "    data = json.load(file)"
   ]
  },
  {
   "cell_type": "code",
   "execution_count": 3,
   "metadata": {},
   "outputs": [
    {
     "data": {
      "text/plain": [
       "4326"
      ]
     },
     "execution_count": 3,
     "metadata": {},
     "output_type": "execute_result"
    }
   ],
   "source": [
    "len(data)"
   ]
  },
  {
   "cell_type": "code",
   "execution_count": 7,
   "metadata": {},
   "outputs": [],
   "source": [
    "chunks = [data[i:i + 721] for i in range(0, len(data), 721)]"
   ]
  },
  {
   "cell_type": "code",
   "execution_count": 12,
   "metadata": {},
   "outputs": [],
   "source": [
    "for i, chunk in enumerate(chunks):\n",
    "    with open(f'/Users/sarfrazahmad/Developer/Research/Fact-Checking/urdu-fc-wip/datasets/processed/simpleqa/parts/simpleqa_gpt-4o_chunk_{i}.json', 'w', encoding='utf-8') as f:\n",
    "        json.dump(chunk, f, ensure_ascii=False, indent=4)"
   ]
  },
  {
   "cell_type": "markdown",
   "metadata": {},
   "source": [
    "### View LangGraph"
   ]
  },
  {
   "cell_type": "code",
   "execution_count": 1,
   "metadata": {},
   "outputs": [],
   "source": [
    "from IPython.display import Image\n",
    "\n",
    "from graph_fewshot import graph"
   ]
  },
  {
   "cell_type": "code",
   "execution_count": 4,
   "metadata": {},
   "outputs": [
    {
     "data": {
      "image/png": "[encoded data removed]",
      "text/plain": [
       "<IPython.core.display.Image object>"
      ]
     },
     "metadata": {},
     "output_type": "display_data"
    }
   ],
   "source": [
    "display(Image(graph.get_graph().draw_mermaid_png()))"
   ]
  },
  {
   "cell_type": "code",
   "execution_count": null,
   "metadata": {},
   "outputs": [],
   "source": []
  }
 ],
 "metadata": {
  "kernelspec": {
   "display_name": "3.11.4",
   "language": "python",
   "name": "python3"
  },
  "language_info": {
   "codemirror_mode": {
    "name": "ipython",
    "version": 3
   },
   "file_extension": ".py",
   "mimetype": "text/x-python",
   "name": "python",
   "nbconvert_exporter": "python",
   "pygments_lexer": "ipython3",
   "version": "3.11.4"
  }
 },
 "nbformat": 4,
 "nbformat_minor": 2
}
